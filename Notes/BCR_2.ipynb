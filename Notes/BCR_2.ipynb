{
 "cells": [
  {
   "cell_type": "markdown",
   "id": "5a384c68",
   "metadata": {},
   "source": [
    " # Benoit Cushman-Roisin GFD Chapter 1"
   ]
  },
  {
   "cell_type": "markdown",
   "id": "e36bd05c",
   "metadata": {},
   "source": [
    "This is a paragraph"
   ]
  },
  {
   "cell_type": "code",
   "execution_count": 6,
   "id": "aec6d4e6",
   "metadata": {},
   "outputs": [],
   "source": [
    "a_path = '../BenoitFiles/chap2';"
   ]
  },
  {
   "cell_type": "code",
   "execution_count": 2,
   "id": "53d067bc",
   "metadata": {},
   "outputs": [],
   "source": [
    "addpath(a_path);"
   ]
  },
  {
   "cell_type": "markdown",
   "id": "8b19893b",
   "metadata": {},
   "source": [
    "Consider a shallow 3-d well approximated as a parabola whose scaled potential (unit mass) is $P(x,y)=g z=\\frac{\\Omega^2,2}(x^2+y^2)$"
   ]
  },
  {
   "cell_type": "markdown",
   "id": "c20572d1",
   "metadata": {},
   "source": [
    "In BCR chapter 2, a parabolic well rotated at angular speed $\\Omega$ is a good tool for understanding how the coriolis effect can be isolated and visualized. The script parabolic.m is an animation that displays the trajectory of a particle under initial conditions that correspond to a mix of radial and azimuthal initial velocities $u_0$ and $v_0$ from a $x_0$ and $y_0$."
   ]
  },
  {
   "cell_type": "code",
   "execution_count": null,
   "id": "7a0b7ee7",
   "metadata": {},
   "outputs": [],
   "source": []
  },
  {
   "cell_type": "code",
   "execution_count": 7,
   "id": "50dfa1e3",
   "metadata": {},
   "outputs": [
    {
     "data": {
      "image/png": "[encoded data removed]",
      "text/plain": [
       "<IPython.core.display.Image object>"
      ]
     },
     "metadata": {},
     "output_type": "display_data"
    }
   ],
   "source": [
    "parabolic"
   ]
  },
  {
   "cell_type": "code",
   "execution_count": 4,
   "id": "3e13b8b1",
   "metadata": {},
   "outputs": [],
   "source": [
    "clear all"
   ]
  },
  {
   "cell_type": "code",
   "execution_count": null,
   "id": "090315d3",
   "metadata": {},
   "outputs": [],
   "source": []
  },
  {
   "cell_type": "code",
   "execution_count": null,
   "id": "8c347a8f",
   "metadata": {},
   "outputs": [],
   "source": []
  }
 ],
 "metadata": {
  "kernelspec": {
   "display_name": "Matlab",
   "language": "matlab",
   "name": "matlab"
  },
  "language_info": {
   "codemirror_mode": "octave",
   "file_extension": ".m",
   "help_links": [
    {
     "text": "MetaKernel Magics",
     "url": "https://metakernel.readthedocs.io/en/latest/source/README.html"
    }
   ],
   "mimetype": "text/x-octave",
   "name": "matlab",
   "version": "0.17.1"
  }
 },
 "nbformat": 4,
 "nbformat_minor": 5
}
